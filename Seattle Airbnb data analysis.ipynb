{
 "cells": [
  {
   "cell_type": "code",
   "execution_count": 1,
   "id": "d05979d5",
   "metadata": {},
   "outputs": [],
   "source": [
    "# import machine learning packages\n",
    "import pandas as pd\n",
    "import numpy as np\n",
    "import matplotlib.pyplot as plt\n",
    "from sklearn.model_selection import train_test_split\n",
    "from sklearn.linear_model import LinearRegression\n",
    "from sklearn.model_selection import train_test_split \n",
    "from sklearn.metrics import r2_score, mean_squared_error \n",
    "\n",
    "pd.set_option('display.max_columns', None)\n",
    "pd.set_option('display.max_rows', None)\n",
    "#import data\n",
    "calendar=pd.read_csv('../data scientist/calendar.csv')\n",
    "listings=pd.read_csv('../data scientist/listings.csv')\n",
    "reviews=pd.read_csv('../data scientist/reviews.csv')"
   ]
  },
  {
   "cell_type": "code",
   "execution_count": 50,
   "id": "b4c93a51",
   "metadata": {},
   "outputs": [
    {
     "name": "stdout",
     "output_type": "stream",
     "text": [
      "<class 'pandas.core.frame.DataFrame'>\n",
      "RangeIndex: 1048575 entries, 0 to 1048574\n",
      "Data columns (total 4 columns):\n",
      " #   Column      Non-Null Count    Dtype \n",
      "---  ------      --------------    ----- \n",
      " 0   listing_id  1048575 non-null  int64 \n",
      " 1   date        1048575 non-null  object\n",
      " 2   available   1048575 non-null  object\n",
      " 3   price       699862 non-null   object\n",
      "dtypes: int64(1), object(3)\n",
      "memory usage: 32.0+ MB\n",
      "None\n"
     ]
    }
   ],
   "source": [
    "# Data understanding\n",
    "#Calendar\n",
    "#get to know columns of calendar\n",
    "print(calendar.info())"
   ]
  },
  {
   "cell_type": "code",
   "execution_count": 51,
   "id": "1579c548",
   "metadata": {},
   "outputs": [
    {
     "name": "stdout",
     "output_type": "stream",
     "text": [
      "min date:2016/1/10;max date2017/1/2\n"
     ]
    }
   ],
   "source": [
    "#get to know the data period\n",
    "print('min date:'+str(min(calendar['date']))+';max date'+str(max(calendar['date'])))"
   ]
  },
  {
   "cell_type": "code",
   "execution_count": 9,
   "id": "281e044a",
   "metadata": {},
   "outputs": [
    {
     "name": "stdout",
     "output_type": "stream",
     "text": [
      "<class 'pandas.core.frame.DataFrame'>\n",
      "RangeIndex: 3818 entries, 0 to 3817\n",
      "Data columns (total 92 columns):\n",
      " #   Column                            Non-Null Count  Dtype  \n",
      "---  ------                            --------------  -----  \n",
      " 0   id                                3818 non-null   int64  \n",
      " 1   listing_url                       3818 non-null   object \n",
      " 2   scrape_id                         3818 non-null   float64\n",
      " 3   last_scraped                      3818 non-null   object \n",
      " 4   name                              3818 non-null   object \n",
      " 5   summary                           3641 non-null   object \n",
      " 6   space                             3249 non-null   object \n",
      " 7   description                       3818 non-null   object \n",
      " 8   experiences_offered               3818 non-null   object \n",
      " 9   neighborhood_overview             2786 non-null   object \n",
      " 10  notes                             2212 non-null   object \n",
      " 11  transit                           2884 non-null   object \n",
      " 12  thumbnail_url                     3498 non-null   object \n",
      " 13  medium_url                        3498 non-null   object \n",
      " 14  picture_url                       3818 non-null   object \n",
      " 15  xl_picture_url                    3498 non-null   object \n",
      " 16  host_id                           3818 non-null   int64  \n",
      " 17  host_url                          3818 non-null   object \n",
      " 18  host_name                         3816 non-null   object \n",
      " 19  host_since                        3816 non-null   object \n",
      " 20  host_location                     3810 non-null   object \n",
      " 21  host_about                        2959 non-null   object \n",
      " 22  host_response_time                3295 non-null   object \n",
      " 23  host_response_rate                3295 non-null   object \n",
      " 24  host_acceptance_rate              3045 non-null   object \n",
      " 25  host_is_superhost                 3816 non-null   object \n",
      " 26  host_thumbnail_url                3816 non-null   object \n",
      " 27  host_picture_url                  3816 non-null   object \n",
      " 28  host_neighbourhood                3518 non-null   object \n",
      " 29  host_listings_count               3816 non-null   float64\n",
      " 30  host_total_listings_count         3816 non-null   float64\n",
      " 31  host_verifications                3818 non-null   object \n",
      " 32  host_has_profile_pic              3816 non-null   object \n",
      " 33  host_identity_verified            3816 non-null   object \n",
      " 34  street                            3818 non-null   object \n",
      " 35  neighbourhood                     3402 non-null   object \n",
      " 36  neighbourhood_cleansed            3818 non-null   object \n",
      " 37  neighbourhood_group_cleansed      3818 non-null   object \n",
      " 38  city                              3818 non-null   object \n",
      " 39  state                             3818 non-null   object \n",
      " 40  zipcode                           3811 non-null   object \n",
      " 41  market                            3818 non-null   object \n",
      " 42  smart_location                    3818 non-null   object \n",
      " 43  country_code                      3818 non-null   object \n",
      " 44  country                           3818 non-null   object \n",
      " 45  latitude                          3818 non-null   float64\n",
      " 46  longitude                         3818 non-null   float64\n",
      " 47  is_location_exact                 3818 non-null   object \n",
      " 48  property_type                     3817 non-null   object \n",
      " 49  room_type                         3818 non-null   object \n",
      " 50  accommodates                      3818 non-null   int64  \n",
      " 51  bathrooms                         3802 non-null   float64\n",
      " 52  bedrooms                          3812 non-null   float64\n",
      " 53  beds                              3817 non-null   float64\n",
      " 54  bed_type                          3818 non-null   object \n",
      " 55  amenities                         3818 non-null   object \n",
      " 56  square_feet                       97 non-null     float64\n",
      " 57  price                             3818 non-null   object \n",
      " 58  weekly_price                      2009 non-null   object \n",
      " 59  monthly_price                     1517 non-null   object \n",
      " 60  security_deposit                  1866 non-null   object \n",
      " 61  cleaning_fee                      2788 non-null   object \n",
      " 62  guests_included                   3818 non-null   int64  \n",
      " 63  extra_people                      3818 non-null   object \n",
      " 64  minimum_nights                    3818 non-null   int64  \n",
      " 65  maximum_nights                    3818 non-null   int64  \n",
      " 66  calendar_updated                  3818 non-null   object \n",
      " 67  has_availability                  3818 non-null   object \n",
      " 68  availability_30                   3818 non-null   int64  \n",
      " 69  availability_60                   3818 non-null   int64  \n",
      " 70  availability_90                   3818 non-null   int64  \n",
      " 71  availability_365                  3818 non-null   int64  \n",
      " 72  calendar_last_scraped             3818 non-null   object \n",
      " 73  number_of_reviews                 3818 non-null   int64  \n",
      " 74  first_review                      3191 non-null   object \n",
      " 75  last_review                       3191 non-null   object \n",
      " 76  review_scores_rating              3171 non-null   float64\n",
      " 77  review_scores_accuracy            3160 non-null   float64\n",
      " 78  review_scores_cleanliness         3165 non-null   float64\n",
      " 79  review_scores_checkin             3160 non-null   float64\n",
      " 80  review_scores_communication       3167 non-null   float64\n",
      " 81  review_scores_location            3163 non-null   float64\n",
      " 82  review_scores_value               3162 non-null   float64\n",
      " 83  requires_license                  3818 non-null   object \n",
      " 84  license                           0 non-null      float64\n",
      " 85  jurisdiction_names                3818 non-null   object \n",
      " 86  instant_bookable                  3818 non-null   object \n",
      " 87  cancellation_policy               3818 non-null   object \n",
      " 88  require_guest_profile_picture     3818 non-null   object \n",
      " 89  require_guest_phone_verification  3818 non-null   object \n",
      " 90  calculated_host_listings_count    3818 non-null   int64  \n",
      " 91  reviews_per_month                 3191 non-null   float64\n",
      "dtypes: float64(18), int64(12), object(62)\n",
      "memory usage: 2.7+ MB\n",
      "None\n"
     ]
    }
   ],
   "source": [
    "#listing\n",
    "#get to know columns type\n",
    "print(listings.info())"
   ]
  },
  {
   "cell_type": "code",
   "execution_count": 2,
   "id": "05e88e6c",
   "metadata": {},
   "outputs": [
    {
     "name": "stdout",
     "output_type": "stream",
     "text": [
      "license                             1.000000\n",
      "square_feet                         0.974594\n",
      "monthly_price                       0.602672\n",
      "security_deposit                    0.511262\n",
      "weekly_price                        0.473808\n",
      "notes                               0.420639\n",
      "neighborhood_overview               0.270299\n",
      "cleaning_fee                        0.269775\n",
      "transit                             0.244631\n",
      "host_about                          0.224987\n",
      "host_acceptance_rate                0.202462\n",
      "review_scores_accuracy              0.172342\n",
      "review_scores_checkin               0.172342\n",
      "review_scores_value                 0.171818\n",
      "review_scores_location              0.171556\n",
      "review_scores_cleanliness           0.171032\n",
      "review_scores_communication         0.170508\n",
      "review_scores_rating                0.169460\n",
      "last_review                         0.164222\n",
      "first_review                        0.164222\n",
      "reviews_per_month                   0.164222\n",
      "space                               0.149031\n",
      "host_response_rate                  0.136983\n",
      "host_response_time                  0.136983\n",
      "neighbourhood                       0.108958\n",
      "thumbnail_url                       0.083814\n",
      "medium_url                          0.083814\n",
      "xl_picture_url                      0.083814\n",
      "host_neighbourhood                  0.078575\n",
      "summary                             0.046359\n",
      "bathrooms                           0.004191\n",
      "host_location                       0.002095\n",
      "zipcode                             0.001833\n",
      "bedrooms                            0.001572\n",
      "host_name                           0.000524\n",
      "host_listings_count                 0.000524\n",
      "host_since                          0.000524\n",
      "host_is_superhost                   0.000524\n",
      "host_identity_verified              0.000524\n",
      "host_picture_url                    0.000524\n",
      "host_thumbnail_url                  0.000524\n",
      "host_total_listings_count           0.000524\n",
      "host_has_profile_pic                0.000524\n",
      "property_type                       0.000262\n",
      "beds                                0.000262\n",
      "require_guest_profile_picture       0.000000\n",
      "calculated_host_listings_count      0.000000\n",
      "maximum_nights                      0.000000\n",
      "calendar_updated                    0.000000\n",
      "has_availability                    0.000000\n",
      "require_guest_phone_verification    0.000000\n",
      "instant_bookable                    0.000000\n",
      "availability_30                     0.000000\n",
      "availability_60                     0.000000\n",
      "availability_90                     0.000000\n",
      "availability_365                    0.000000\n",
      "calendar_last_scraped               0.000000\n",
      "number_of_reviews                   0.000000\n",
      "cancellation_policy                 0.000000\n",
      "jurisdiction_names                  0.000000\n",
      "requires_license                    0.000000\n",
      "extra_people                        0.000000\n",
      "minimum_nights                      0.000000\n",
      "id                                  0.000000\n",
      "guests_included                     0.000000\n",
      "price                               0.000000\n",
      "scrape_id                           0.000000\n",
      "last_scraped                        0.000000\n",
      "name                                0.000000\n",
      "description                         0.000000\n",
      "experiences_offered                 0.000000\n",
      "picture_url                         0.000000\n",
      "host_id                             0.000000\n",
      "host_url                            0.000000\n",
      "host_verifications                  0.000000\n",
      "street                              0.000000\n",
      "neighbourhood_cleansed              0.000000\n",
      "neighbourhood_group_cleansed        0.000000\n",
      "city                                0.000000\n",
      "state                               0.000000\n",
      "market                              0.000000\n",
      "smart_location                      0.000000\n",
      "country_code                        0.000000\n",
      "country                             0.000000\n",
      "latitude                            0.000000\n",
      "listing_url                         0.000000\n",
      "is_location_exact                   0.000000\n",
      "room_type                           0.000000\n",
      "accommodates                        0.000000\n",
      "bed_type                            0.000000\n",
      "amenities                           0.000000\n",
      "longitude                           0.000000\n",
      "dtype: float64\n"
     ]
    }
   ],
   "source": [
    "#get to know how many null values for each columns\n",
    "listings_null_percentage=np.sum(listings.isnull())/listings.shape[0]\n",
    "print(listings_null_percentage.sort_values(ascending=False))"
   ]
  },
  {
   "cell_type": "code",
   "execution_count": 53,
   "id": "479ca30e",
   "metadata": {},
   "outputs": [
    {
     "name": "stdout",
     "output_type": "stream",
     "text": [
      "<class 'pandas.core.frame.DataFrame'>\n",
      "RangeIndex: 84849 entries, 0 to 84848\n",
      "Data columns (total 6 columns):\n",
      " #   Column         Non-Null Count  Dtype \n",
      "---  ------         --------------  ----- \n",
      " 0   listing_id     84849 non-null  int64 \n",
      " 1   id             84849 non-null  int64 \n",
      " 2   date           84849 non-null  object\n",
      " 3   reviewer_id    84849 non-null  int64 \n",
      " 4   reviewer_name  84849 non-null  object\n",
      " 5   comments       84831 non-null  object\n",
      "dtypes: int64(3), object(3)\n",
      "memory usage: 3.9+ MB\n",
      "None\n"
     ]
    }
   ],
   "source": [
    "#review\n",
    "#get to know columns information\n",
    "print(reviews.info())"
   ]
  },
  {
   "cell_type": "code",
   "execution_count": 56,
   "id": "9dd6ee1b",
   "metadata": {},
   "outputs": [
    {
     "data": {
      "image/png": "[encoded data removed]",
      "text/plain": [
       "<Figure size 432x288 with 1 Axes>"
      ]
     },
     "metadata": {
      "needs_background": "light"
     },
     "output_type": "display_data"
    },
    {
     "name": "stderr",
     "output_type": "stream",
     "text": [
      "<ipython-input-56-f4428bb9c1e4>:13: SettingWithCopyWarning: \n",
      "A value is trying to be set on a copy of a slice from a DataFrame.\n",
      "Try using .loc[row_indexer,col_indexer] = value instead\n",
      "\n",
      "See the caveats in the documentation: https://pandas.pydata.org/pandas-docs/stable/user_guide/indexing.html#returning-a-view-versus-a-copy\n",
      "  calendar_2016['price']=calendar_2016['price'].apply(lambda x: str(x).replace('$', '').replace(',', '')).astype(float)\n"
     ]
    },
    {
     "data": {
      "image/png": "[encoded data removed]",
      "text/plain": [
       "<Figure size 432x288 with 1 Axes>"
      ]
     },
     "metadata": {
      "needs_background": "light"
     },
     "output_type": "display_data"
    }
   ],
   "source": [
    "#question1:when is the best time to seattle\n",
    "#Occupation rate over month in 2016\n",
    "calendar['date']=pd.to_datetime(calendar['date'])\n",
    "calendar['year']=calendar.date.dt.year\n",
    "calendar['month']=calendar.date.dt.month\n",
    "calendar_2016=calendar[calendar['year']==2016]\n",
    "calendar_2016_occupation=calendar_2016[calendar_2016['available']=='t'].groupby(['month']).count()/calendar.groupby(['month']).count()\n",
    "calendar_2016_occupation=calendar_2016_occupation.reset_index()\n",
    "calendar_2016_occupation.plot(x='month',y='available',kind=\"line\",title='2016 occupation rate over month')\n",
    "plt.show()\n",
    "\n",
    "#price over month\n",
    "calendar_2016['price']=calendar_2016['price'].apply(lambda x: str(x).replace('$', '').replace(',', '')).astype(float)\n",
    "average_price_by_month = calendar_2016.groupby(['month'])['price'].mean()\n",
    "average_price_by_month.plot(title='2016 price trend over month',xlabel=\"month\",ylabel=\"avg_price\")\n",
    "plt.show()"
   ]
  },
  {
   "cell_type": "code",
   "execution_count": 5,
   "id": "ee051bb9",
   "metadata": {},
   "outputs": [
    {
     "data": {
      "image/png": "[encoded data removed]",
      "text/plain": [
       "<Figure size 432x288 with 1 Axes>"
      ]
     },
     "metadata": {
      "needs_background": "light"
     },
     "output_type": "display_data"
    },
    {
     "data": {
      "image/png": "[encoded data removed]",
      "text/plain": [
       "<Figure size 432x288 with 1 Axes>"
      ]
     },
     "metadata": {
      "needs_background": "light"
     },
     "output_type": "display_data"
    },
    {
     "name": "stdout",
     "output_type": "stream",
     "text": [
      "price                             1.000000\n",
      "accommodates                      0.652218\n",
      "bedrooms                          0.627720\n",
      "beds                              0.589525\n",
      "square_feet                       0.531752\n",
      "bathrooms                         0.516424\n",
      "guests_included                   0.392875\n",
      "host_listings_count               0.093962\n",
      "host_total_listings_count         0.093962\n",
      "review_scores_location            0.075069\n",
      "review_scores_rating              0.055551\n",
      "review_scores_cleanliness         0.054357\n",
      "review_scores_accuracy            0.019026\n",
      "minimum_nights                    0.017297\n",
      "review_scores_communication       0.012990\n",
      "review_scores_checkin             0.007877\n",
      "maximum_nights                   -0.003336\n",
      "latitude                         -0.008904\n",
      "availability_365                 -0.015550\n",
      "availability_30                  -0.037653\n",
      "review_scores_value              -0.041776\n",
      "id                               -0.046289\n",
      "availability_60                  -0.049336\n",
      "host_id                          -0.051332\n",
      "calculated_host_listings_count   -0.054092\n",
      "availability_90                  -0.058810\n",
      "longitude                        -0.102420\n",
      "number_of_reviews                -0.124695\n",
      "reviews_per_month                -0.218588\n",
      "scrape_id                              NaN\n",
      "license                                NaN\n",
      "Name: price, dtype: float64\n",
      "MeanSquared Error train: 4111.408838029555\n",
      "MeanSquared Error test: 4238.966756597124\n",
      "r2_score train: -0.06800902253113428\n",
      "r2_score test: 0.0670319086402561\n",
      "R2: 0.48355688447434964\n"
     ]
    }
   ],
   "source": [
    "#question2:where is the best place to live in Seattle\n",
    "listings['price'] = listings['price'].apply(lambda x:str(x).replace(\"$\",\"\").replace(\",\",\"\"))\n",
    "listings['price'] = listings['price'].astype(float)\n",
    "\n",
    "listing_price_neighbourhood=listings['price'].groupby(listings['neighbourhood']).mean().sort_values(ascending=False)\n",
    "listing_price_neighbourhood[-10:].plot(kind=\"bar\",title=\"top 10 lowest price by neighbourhood\",xlabel='neighbourhood',ylabel='avg_price($)')\n",
    "plt.xticks(rotation =90)\n",
    "plt.subplots_adjust(bottom=0.3)\n",
    "plt.show()\n",
    "listing_price_neighbourhood[:10].plot(kind=\"bar\",title=\"top 10 highest price by neighbourhood\",xlabel='neighbourhood',ylabel='avg_price($)')\n",
    "plt.xticks(rotation =90)\n",
    "plt.subplots_adjust(bottom=0.35)\n",
    "plt.show()\n",
    "\n",
    "\n",
    "\n",
    "#question3: what impact price\n",
    "#cor analysis\n",
    "cor=listings.corr()\n",
    "print(cor['price'].sort_values(ascending=False))\n",
    "\n",
    "\n",
    "#question4:data modeling for price\n",
    "X=listings[[\"accommodates\",\"bedrooms\",\"beds\",\"bathrooms\",\"guests_included\",\"reviews_per_month\"]]\n",
    "fill_mode=lambda col:col.fillna(col.mode()[0])\n",
    "X=X.apply(fill_mode)\n",
    "Y=listings['price']\n",
    "X_train, X_test, Y_train, Y_test = train_test_split(X, Y , test_size=.30, random_state=42)\n",
    "lm_model = LinearRegression(normalize=True)\n",
    "model=lm_model.fit(X_train,Y_train)\n",
    "Y_predict_test=lm_model.predict(X_test)\n",
    "Y_predict_train=lm_model.predict(X_train)\n",
    "print('MeanSquared Error train:', mean_squared_error(Y_predict_train, Y_train))\n",
    "print('MeanSquared Error test:', mean_squared_error(Y_predict_test, Y_test))\n",
    "print('r2_score train:', r2_score(Y_predict_train, Y_train))\n",
    "print('r2_score test:', r2_score(Y_predict_test, Y_test))\n",
    "print('R2:',model.score(X_train,Y_train))\n"
   ]
  },
  {
   "cell_type": "code",
   "execution_count": null,
   "id": "69dbdde8",
   "metadata": {},
   "outputs": [],
   "source": []
  }
 ],
 "metadata": {
  "kernelspec": {
   "display_name": "Python 3",
   "language": "python",
   "name": "python3"
  },
  "language_info": {
   "codemirror_mode": {
    "name": "ipython",
    "version": 3
   },
   "file_extension": ".py",
   "mimetype": "text/x-python",
   "name": "python",
   "nbconvert_exporter": "python",
   "pygments_lexer": "ipython3",
   "version": "3.8.8"
  }
 },
 "nbformat": 4,
 "nbformat_minor": 5
}
